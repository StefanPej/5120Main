{
 "cells": [
  {
   "cell_type": "code",
   "execution_count": 3,
   "metadata": {},
   "outputs": [],
   "source": [
    "import csv\n",
    "import pprint\n",
    "import json\n",
    "from datetime import datetime, timezone\n",
    "import random"
   ]
  },
  {
   "cell_type": "markdown",
   "metadata": {},
   "source": [
    "Get data"
   ]
  },
  {
   "cell_type": "code",
   "execution_count": 9,
   "metadata": {},
   "outputs": [],
   "source": [
    "with open(\".\\\\raw_data\\\\verified-2019_tweets.json\", \"r\") as f:\n",
    "    raw_data = json.load(f)"
   ]
  },
  {
   "cell_type": "markdown",
   "metadata": {},
   "source": [
    "Fn to get account age"
   ]
  },
  {
   "cell_type": "code",
   "execution_count": 10,
   "metadata": {},
   "outputs": [],
   "source": [
    "def get_age(account):\n",
    "\n",
    "    \"\"\"\n",
    "    Finds\n",
    "    \"\"\"\n",
    "    date_format = \"%a %b %d %H:%M:%S %z %Y\"\n",
    "\n",
    "    created = datetime.strptime(account['created_at'], date_format)\n",
    "    now = datetime.now(timezone.utc)\n",
    "\n",
    "    delta = now - created\n",
    "\n",
    "    return delta.days\n"
   ]
  },
  {
   "cell_type": "markdown",
   "metadata": {},
   "source": [
    "Fn to get a line of a csv from an account"
   ]
  },
  {
   "cell_type": "code",
   "execution_count": 11,
   "metadata": {},
   "outputs": [],
   "source": [
    "def get_line(account):\n",
    "    name = account['name']\n",
    "    screen_name = account['screen_name']\n",
    "    desc = account ['description']\n",
    "    followers = account['followers_count']\n",
    "    following = account['friends_count']\n",
    "    verified = account['verified']\n",
    "    age = get_age(account)\n",
    "    tweet_per_day = round(account['statuses_count']/age, 2)\n",
    "    default_image = account['default_profile_image']\n",
    "    \n",
    "    return \",\".join([name, screen_name, desc, str(followers), str(following), str(verified), str(age), str(tweet_per_day), str(default_image)])"
   ]
  },
  {
   "cell_type": "markdown",
   "metadata": {},
   "source": [
    "Pick 100 random indices"
   ]
  },
  {
   "cell_type": "code",
   "execution_count": 12,
   "metadata": {},
   "outputs": [],
   "source": [
    "sample = random.sample(range(len(raw_data)), 100)"
   ]
  },
  {
   "cell_type": "markdown",
   "metadata": {},
   "source": [
    "Write the 100 random samples into a csv"
   ]
  },
  {
   "cell_type": "code",
   "execution_count": 13,
   "metadata": {},
   "outputs": [],
   "source": [
    "with open('real_users_100.csv', \"w\", encoding=\"utf-8\") as f:\n",
    "    for number in sample:\n",
    "        f.write(get_line(raw_data[number]['user']) + \"\\n\")"
   ]
  },
  {
   "cell_type": "code",
   "execution_count": 14,
   "metadata": {},
   "outputs": [],
   "source": [
    "def write_sql(account):\n",
    "    \n",
    "    name = account['name'].replace(\"'\", \"\\\\'\").replace('\"', '\\\"')\n",
    "    screen_name = account['screen_name'].replace(\"'\", \"\\\\'\").replace('\"', '\\\"')\n",
    "    desc = account ['description'].replace(\"\\n\", \"\\\\n\").replace(\"'\", \"\\\\'\").replace('\"', '\\\"')\n",
    "    followers = account['followers_count']\n",
    "    following = account['friends_count']\n",
    "    verified = account['verified']\n",
    "    age = get_age(account)\n",
    "    tweet_per_day = round(account['statuses_count']/age, 2)\n",
    "    default_image = account['default_profile_image']\n",
    "    \n",
    "    ret = \"insert into twitter_users (display_name, acct_name, description, followers, following, verified, age, tweets_per_day, default_image, real_acct) values (\"\n",
    "    ret += f\"'{name}','{screen_name}','{desc}',{followers},{following},'{verified}',{age},{tweet_per_day},'{default_image}','True');\"\n",
    "    \n",
    "    return ret"
   ]
  },
  {
   "cell_type": "code",
   "execution_count": 15,
   "metadata": {},
   "outputs": [],
   "source": [
    "with open('real_users_100.sql', \"w\", encoding=\"utf-8\") as f:\n",
    "    for number in sample:\n",
    "        f.write(write_sql(raw_data[number]['user']) + \"\\n\")"
   ]
  },
  {
   "cell_type": "code",
   "execution_count": null,
   "metadata": {},
   "outputs": [],
   "source": []
  },
  {
   "cell_type": "code",
   "execution_count": null,
   "metadata": {},
   "outputs": [],
   "source": []
  }
 ],
 "metadata": {
  "kernelspec": {
   "display_name": "Python 3",
   "language": "python",
   "name": "python3"
  },
  "language_info": {
   "codemirror_mode": {
    "name": "ipython",
    "version": 3
   },
   "file_extension": ".py",
   "mimetype": "text/x-python",
   "name": "python",
   "nbconvert_exporter": "python",
   "pygments_lexer": "ipython3",
   "version": "3.8.3"
  }
 },
 "nbformat": 4,
 "nbformat_minor": 4
}
