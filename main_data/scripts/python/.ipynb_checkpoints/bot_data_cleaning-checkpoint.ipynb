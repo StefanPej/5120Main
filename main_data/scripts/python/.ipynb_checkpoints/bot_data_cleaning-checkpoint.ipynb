{
 "cells": [
  {
   "cell_type": "code",
   "execution_count": 1,
   "metadata": {},
   "outputs": [],
   "source": [
    "import csv\n",
    "import pprint\n",
    "import json\n",
    "from datetime import datetime, timezone\n",
    "import random"
   ]
  },
  {
   "cell_type": "code",
   "execution_count": 2,
   "metadata": {},
   "outputs": [
    {
     "ename": "AttributeError",
     "evalue": "type object 'datetime.datetime' has no attribute '__version__'",
     "output_type": "error",
     "traceback": [
      "\u001b[1;31m---------------------------------------------------------------------------\u001b[0m",
      "\u001b[1;31mAttributeError\u001b[0m                            Traceback (most recent call last)",
      "\u001b[1;32m<ipython-input-2-95718321bf5d>\u001b[0m in \u001b[0;36m<module>\u001b[1;34m\u001b[0m\n\u001b[1;32m----> 1\u001b[1;33m \u001b[0mprint\u001b[0m\u001b[1;33m(\u001b[0m\u001b[0mdatetime\u001b[0m\u001b[1;33m.\u001b[0m\u001b[0m__version__\u001b[0m\u001b[1;33m)\u001b[0m\u001b[1;33m\u001b[0m\u001b[1;33m\u001b[0m\u001b[0m\n\u001b[0m",
      "\u001b[1;31mAttributeError\u001b[0m: type object 'datetime.datetime' has no attribute '__version__'"
     ]
    }
   ],
   "source": [
    "print(datetime.__version__)"
   ]
  },
  {
   "cell_type": "code",
   "execution_count": 4,
   "metadata": {},
   "outputs": [],
   "source": [
    "with open(\".\\\\raw_data\\\\vendor-purchased-2019_tweets.json\", \"r\") as f:\n",
    "    raw_data = json.load(f)"
   ]
  },
  {
   "cell_type": "code",
   "execution_count": 10,
   "metadata": {},
   "outputs": [],
   "source": [
    "def get_age(account):\n",
    "\n",
    "    \"\"\"\n",
    "    Finds\n",
    "    \"\"\"\n",
    "    date_format = \"%a %b %d %H:%M:%S %z %Y\"\n",
    "\n",
    "    created = datetime.strptime(account['created_at'], date_format)\n",
    "    now = datetime.now(timezone.utc)\n",
    "\n",
    "    delta = now - created\n",
    "\n",
    "    return delta.days\n"
   ]
  },
  {
   "cell_type": "code",
   "execution_count": 21,
   "metadata": {},
   "outputs": [],
   "source": [
    "def get_line(account):\n",
    "    name = account['name']\n",
    "    screen_name = account['screen_name']\n",
    "    desc = account ['description'].replace(\"\\n\", \"\\\\n\")\n",
    "    followers = account['followers_count']\n",
    "    following = account['friends_count']\n",
    "    verified = account['verified']\n",
    "    age = get_age(account)\n",
    "    tweet_per_day = round(account['statuses_count']/age, 2)\n",
    "    default_image = account['default_profile_image']\n",
    "    \n",
    "    return r\",\".join([name, screen_name, desc, str(followers), str(following), str(verified), str(age), str(tweet_per_day), str(default_image)])"
   ]
  },
  {
   "cell_type": "code",
   "execution_count": 12,
   "metadata": {},
   "outputs": [],
   "source": [
    "sample = random.sample(range(len(raw_data)), 100)"
   ]
  },
  {
   "cell_type": "code",
   "execution_count": 20,
   "metadata": {},
   "outputs": [],
   "source": [
    "with open('bot_users_100.csv', \"w\", encoding=\"utf-8\") as f:\n",
    "    for number in sample:\n",
    "        f.write(get_line(raw_data[number]['user']) + \"\\n\")"
   ]
  },
  {
   "cell_type": "code",
   "execution_count": 51,
   "metadata": {},
   "outputs": [],
   "source": [
    "def write_sql(account):\n",
    "    \n",
    "    name = account['name'].replace(\"'\", \"\\\\'\").replace('\"', '\\\"')\n",
    "    screen_name = account['screen_name'].replace(\"'\", \"\\\\'\").replace('\"', '\\\"')\n",
    "    desc = account ['description'].replace(\"\\n\", \"\\\\n\").replace(\"'\", \"\\\\'\").replace('\"', '\\\"')\n",
    "    followers = account['followers_count']\n",
    "    following = account['friends_count']\n",
    "    verified = account['verified']\n",
    "    age = get_age(account)\n",
    "    tweet_per_day = round(account['statuses_count']/age, 2)\n",
    "    default_image = account['default_profile_image']\n",
    "    \n",
    "    ret = \"insert into twitter_users (display_name, acct_name, description, followers, following, verified, age, tweets_per_day, default_image, real_acct) values (\"\n",
    "    ret += f\"'{name}','{screen_name}','{desc}',{followers},{following},'{verified}',{age},{tweet_per_day},'{default_image}','False');\"\n",
    "    \n",
    "    return ret"
   ]
  },
  {
   "cell_type": "code",
   "execution_count": 53,
   "metadata": {},
   "outputs": [],
   "source": [
    "with open('bot_users_100.sql', \"w\", encoding=\"utf-8\") as f:\n",
    "    for number in sample:\n",
    "        f.write(write_sql(raw_data[number]['user']) + \"\\n\")"
   ]
  }
 ],
 "metadata": {
  "kernelspec": {
   "display_name": "Python 3",
   "language": "python",
   "name": "python3"
  },
  "language_info": {
   "codemirror_mode": {
    "name": "ipython",
    "version": 3
   },
   "file_extension": ".py",
   "mimetype": "text/x-python",
   "name": "python",
   "nbconvert_exporter": "python",
   "pygments_lexer": "ipython3",
   "version": "3.8.3"
  }
 },
 "nbformat": 4,
 "nbformat_minor": 4
}
