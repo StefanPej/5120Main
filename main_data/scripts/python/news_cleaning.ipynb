{
 "cells": [
  {
   "cell_type": "code",
   "execution_count": 2,
   "metadata": {},
   "outputs": [],
   "source": [
    "import pandas as pd\n",
    "import nltk\n",
    "from nltk.corpus import stopwords\n",
    "from nltk.tokenize import RegexpTokenizer\n",
    "import json"
   ]
  },
  {
   "cell_type": "code",
   "execution_count": null,
   "metadata": {},
   "outputs": [],
   "source": [
    "INFILE = \".\\\\raw_data\\\\News_dataset\\\\Fake.csv\"\n",
    "OUTFILE = \"fake_news_counts_nonames.json\""
   ]
  },
  {
   "cell_type": "code",
   "execution_count": 3,
   "metadata": {
    "scrolled": true
   },
   "outputs": [],
   "source": [
    "# import raw data\n",
    "raw = pd.read_csv(infile)"
   ]
  },
  {
   "cell_type": "code",
   "execution_count": 4,
   "metadata": {},
   "outputs": [],
   "source": [
    "# get all the text\n",
    "text = \" \".join([text for text in raw[\"text\"]])"
   ]
  },
  {
   "cell_type": "code",
   "execution_count": 20,
   "metadata": {},
   "outputs": [],
   "source": [
    "# tokenize text\n",
    "tokenizer = RegexpTokenizer(r\"\\w+\")\n",
    "tokens = tokenizer.tokenize(text)\n",
    "# make lower\n",
    "tokens = [token.lower() for token in tokens]\n",
    "# remove stop words\n",
    "stop_words = set(stopwords.words('english'))\n",
    "tokens = [token for token in tokens if token not in stop_words]\n",
    "# remove names\n",
    "names = set([\"trump\", 'hillary', 'clinton', 'realdonaldtrump', 'https', '000', 'donald', '2', 'obama', '1'])\n",
    "tokens = [token for token in tokens if token not in names]"
   ]
  },
  {
   "cell_type": "code",
   "execution_count": 22,
   "metadata": {},
   "outputs": [],
   "source": [
    "# get words and count frequency\n",
    "unique_tokens = set(tokens)\n",
    "counts = {word:0 for word in unique_tokens}\n",
    "for word in tokens:\n",
    "    counts[word] += 1"
   ]
  },
  {
   "cell_type": "code",
   "execution_count": 26,
   "metadata": {},
   "outputs": [],
   "source": [
    "# get top 200 words via count, save to final JSON\n",
    "top_vals = [key for key in counts.values()]\n",
    "top_vals.sort(reverse=True)\n",
    "top_vals = set(top_vals[:200])\n",
    "top_200 = {k:v for k,v in counts.items() if v in top_vals}\n",
    "top_200_list = []\n",
    "for k,v in top_200.items():\n",
    "    top_200_list.append({\"word\":k, \"count\":v})\n",
    "final = {\"vocab\": top_200_list}"
   ]
  },
  {
   "cell_type": "code",
   "execution_count": 35,
   "metadata": {},
   "outputs": [],
   "source": [
    "# write JSON output\n",
    "with open(OUTFILE, \"w\") as o:\n",
    "    o.write(json.dumps(top_200))"
   ]
  }
 ],
 "metadata": {
  "kernelspec": {
   "display_name": "Python 3",
   "language": "python",
   "name": "python3"
  },
  "language_info": {
   "codemirror_mode": {
    "name": "ipython",
    "version": 3
   },
   "file_extension": ".py",
   "mimetype": "text/x-python",
   "name": "python",
   "nbconvert_exporter": "python",
   "pygments_lexer": "ipython3",
   "version": "3.8.3"
  }
 },
 "nbformat": 4,
 "nbformat_minor": 4
}
