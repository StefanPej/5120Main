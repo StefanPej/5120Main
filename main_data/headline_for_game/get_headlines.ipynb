{
 "cells": [
  {
   "cell_type": "code",
   "execution_count": 2,
   "metadata": {},
   "outputs": [],
   "source": [
    "import pandas as pd"
   ]
  },
  {
   "cell_type": "code",
   "execution_count": 4,
   "metadata": {},
   "outputs": [],
   "source": [
    "fake_raw = pd.read_csv(\"E:\\\\Uni\\\\5122_IE_Project\\\\5120Main\\\\main_data\\\\raw_data\\\\News_dataset\\\\Fake.csv\")\n",
    "real_raw = pd.read_csv(\"E:\\\\Uni\\\\5122_IE_Project\\\\5120Main\\\\main_data\\\\raw_data\\\\News_dataset\\\\True.csv\")"
   ]
  },
  {
   "cell_type": "code",
   "execution_count": 11,
   "metadata": {},
   "outputs": [],
   "source": [
    "fake_headlines = fake_raw[\"title\"]\n",
    "real_headlines = real_raw[\"title\"]"
   ]
  },
  {
   "cell_type": "code",
   "execution_count": 12,
   "metadata": {},
   "outputs": [
    {
     "data": {
      "text/plain": [
       "0        As U.S. budget fight looms, Republicans flip t...\n",
       "1        U.S. military to accept transgender recruits o...\n",
       "2        Senior U.S. Republican senator: 'Let Mr. Muell...\n",
       "3        FBI Russia probe helped by Australian diplomat...\n",
       "4        Trump wants Postal Service to charge 'much mor...\n",
       "                               ...                        \n",
       "21412    'Fully committed' NATO backs new U.S. approach...\n",
       "21413    LexisNexis withdrew two products from Chinese ...\n",
       "21414    Minsk cultural hub becomes haven from authorities\n",
       "21415    Vatican upbeat on possibility of Pope Francis ...\n",
       "21416    Indonesia to buy $1.14 billion worth of Russia...\n",
       "Name: title, Length: 21417, dtype: object"
      ]
     },
     "execution_count": 12,
     "metadata": {},
     "output_type": "execute_result"
    }
   ],
   "source": [
    "real_headlines"
   ]
  },
  {
   "cell_type": "code",
   "execution_count": 14,
   "metadata": {},
   "outputs": [],
   "source": [
    "fake_headlines.to_csv(\"fake_headlines.csv\")\n",
    "real_headlines.to_csv(\"real_headlines.csv\")"
   ]
  },
  {
   "cell_type": "code",
   "execution_count": null,
   "metadata": {},
   "outputs": [],
   "source": []
  }
 ],
 "metadata": {
  "kernelspec": {
   "display_name": "Python 3",
   "language": "python",
   "name": "python3"
  },
  "language_info": {
   "codemirror_mode": {
    "name": "ipython",
    "version": 3
   },
   "file_extension": ".py",
   "mimetype": "text/x-python",
   "name": "python",
   "nbconvert_exporter": "python",
   "pygments_lexer": "ipython3",
   "version": "3.8.3"
  }
 },
 "nbformat": 4,
 "nbformat_minor": 4
}
